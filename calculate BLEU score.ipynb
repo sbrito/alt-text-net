{
 "cells": [
  {
   "cell_type": "code",
   "execution_count": 17,
   "metadata": {},
   "outputs": [],
   "source": [
    "## function to calculate BLEU score for a caption\n",
    "import nltk\n",
    "\n",
    "def BLEU_4(ref_caption, gen_caption):\n",
    "    return nltk.translate.bleu_score.sentence_bleu([ref_caption], gen_caption)\n",
    "\n",
    "def BLEU_3(ref_caption, gen_caption):\n",
    "    return nltk.translate.bleu_score.sentence_bleu([ref_caption], gen_caption,  weights=(0, 0, 1, 0))\n",
    "\n",
    "def BLEU_2(ref_caption, gen_caption):\n",
    "    return nltk.translate.bleu_score.sentence_bleu([ref_caption], gen_caption,  weights=(0, 1, 0, 0))\n",
    "\n",
    "def BLEU_1(ref_caption, gen_caption):\n",
    "    return nltk.translate.bleu_score.sentence_bleu([ref_caption], gen_caption,  weights=(1, 0, 0, 0))"
   ]
  },
  {
   "cell_type": "code",
   "execution_count": 19,
   "metadata": {},
   "outputs": [],
   "source": [
    "import numpy as np\n",
    "real_captions = np.load(\"real_val_captions_og_bigru_20_epochs.npy\", allow_pickle=True)\n",
    "gen_captions = np.load(\"gen_val_captions_og_bigru_20_epochs.npy\", allow_pickle=True)"
   ]
  },
  {
   "cell_type": "code",
   "execution_count": 20,
   "metadata": {},
   "outputs": [
    {
     "name": "stdout",
     "output_type": "stream",
     "text": [
      "processing score for image number  0\n",
      "processing score for image number  100\n",
      "processing score for image number  200\n",
      "processing score for image number  300\n",
      "processing score for image number  400\n",
      "processing score for image number  500\n",
      "processing score for image number  600\n",
      "processing score for image number  700\n",
      "processing score for image number  800\n",
      "processing score for image number  900\n",
      "processing score for image number  1000\n",
      "processing score for image number  1100\n",
      "processing score for image number  1200\n",
      "processing score for image number  1300\n",
      "processing score for image number  1400\n",
      "processing score for image number  1500\n",
      "processing score for image number  1600\n",
      "processing score for image number  1700\n",
      "processing score for image number  1800\n",
      "processing score for image number  1900\n"
     ]
    }
   ],
   "source": [
    "total_bleu_1 = 0.0\n",
    "total_bleu_2 = 0.0\n",
    "total_bleu_3 = 0.0\n",
    "total_bleu_4 = 0.0\n",
    "for i in range(len(real_captions)):\n",
    "    if (i % 100 == 0):\n",
    "        print(\"processing score for image number \", i)\n",
    "    total_bleu_1 += BLEU_1(real_captions[i], gen_captions[i])\n",
    "    total_bleu_2 += BLEU_2(real_captions[i], gen_captions[i])\n",
    "    total_bleu_3 += BLEU_3(real_captions[i], gen_captions[i])\n",
    "    total_bleu_4 += BLEU_4(real_captions[i], gen_captions[i])"
   ]
  },
  {
   "cell_type": "code",
   "execution_count": 21,
   "metadata": {},
   "outputs": [
    {
     "name": "stdout",
     "output_type": "stream",
     "text": [
      "[list(['i', 'dead', 'tree', 'hands', 'and', 'about', 'garment', 'child', 'smiles', 'and', '<unk>', 'with', 'shopping', 'bags', '<end>'])\n",
      " list(['a', '<unk>', 'sofa', '<end>'])\n",
      " list(['author', 'chair', 'standing', 'in', 'the', 'day', 'of', 'a', '<unk>', '<end>'])\n",
      " ...\n",
      " list(['a', 'pattern', 'of', 'a', 'sad', 'face', 'on', 'the', 'day', '<end>'])\n",
      " list(['a', 'boy', 'rides', 'a', 'square', 'with', 'a', 'little', 'boy', 'with', 'a', 'close', 'up', 'a', 'mobile', 'phone', 'reacts', 'with', 'a', 'year', 'with', 'a', '<unk>', 'two', 'and', 'talking', 'on', 'a', 'fishing', 'boats', 'with', 'a', 'blue', 'dining', 'for', 'a', 'wall', 'with', 'a', '<unk>', '<end>'])\n",
      " list(['male', 'dogs', 'went', 'for', 'the', '2nd', 'shape', 'of', 'a', 'closer', 'a', 'senior', 'couple', 'having', 'fun', 'that', 'will', 'unidentified', 'person', '<end>'])]\n"
     ]
    }
   ],
   "source": [
    "print(gen_captions)"
   ]
  },
  {
   "cell_type": "code",
   "execution_count": 23,
   "metadata": {},
   "outputs": [
    {
     "name": "stdout",
     "output_type": "stream",
     "text": [
      "bleu 1  0.13950056512887032\n",
      "bleu 2  0.016199353641409366\n",
      "bleu 3  0.003539339284306612\n",
      "bleu 4  0.0018097798856362573\n"
     ]
    }
   ],
   "source": [
    "num_val = len(real_captions)\n",
    "print(\"bleu 1 \", total_bleu_1/num_val)\n",
    "print(\"bleu 2 \", total_bleu_2/num_val)\n",
    "print(\"bleu 3 \", total_bleu_3/num_val)\n",
    "print(\"bleu 4 \", total_bleu_4/num_val)"
   ]
  },
  {
   "cell_type": "code",
   "execution_count": null,
   "metadata": {},
   "outputs": [],
   "source": []
  }
 ],
 "metadata": {
  "kernelspec": {
   "display_name": "Python 3",
   "language": "python",
   "name": "python3"
  },
  "language_info": {
   "codemirror_mode": {
    "name": "ipython",
    "version": 3
   },
   "file_extension": ".py",
   "mimetype": "text/x-python",
   "name": "python",
   "nbconvert_exporter": "python",
   "pygments_lexer": "ipython3",
   "version": "3.8.3"
  }
 },
 "nbformat": 4,
 "nbformat_minor": 4
}
